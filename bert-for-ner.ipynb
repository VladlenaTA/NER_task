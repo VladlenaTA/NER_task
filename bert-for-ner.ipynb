{
 "metadata": {
  "kernelspec": {
   "language": "python",
   "display_name": "Python 3",
   "name": "python3"
  },
  "language_info": {
   "pygments_lexer": "ipython3",
   "nbconvert_exporter": "python",
   "version": "3.6.4",
   "file_extension": ".py",
   "codemirror_mode": {
    "name": "ipython",
    "version": 3
   },
   "name": "python",
   "mimetype": "text/x-python"
  }
 },
 "nbformat_minor": 4,
 "nbformat": 4,
 "cells": [
  {
   "cell_type": "code",
   "source": [
    "!pip install transformers seqeval[gpu]\n",
    "!pip install simpletransformers\n",
    "import pandas as pd # data processing, CSV file I/O (e.g. pd.read_csv)\n",
    "from sklearn.preprocessing import LabelEncoder\n",
    "from sklearn.model_selection import train_test_split\n",
    "from sklearn.metrics import accuracy_score\n",
    "from simpletransformers.ner import NERModel , NERArgs"
   ],
   "metadata": {
    "_uuid": "8f2839f25d086af736a60e9eeb907d3b93b6e0e5",
    "_cell_guid": "b1076dfc-b9ad-4769-8c92-a6c4dae69d19",
    "execution": {
     "iopub.status.busy": "2023-02-07T02:40:50.046973Z",
     "iopub.execute_input": "2023-02-07T02:40:50.047875Z",
     "iopub.status.idle": "2023-02-07T02:40:50.074403Z",
     "shell.execute_reply.started": "2023-02-07T02:40:50.047794Z",
     "shell.execute_reply": "2023-02-07T02:40:50.07288Z"
    },
    "trusted": true,
    "ExecuteTime": {
     "end_time": "2023-07-11T19:29:40.381063400Z",
     "start_time": "2023-07-11T19:29:40.154063Z"
    }
   },
   "execution_count": 1,
   "outputs": []
  },
  {
   "cell_type": "code",
   "source": [
    "from torch import cuda\n",
    "device = 'cuda' if cuda.is_available() else 'cpu'\n",
    "print(device)"
   ],
   "metadata": {
    "execution": {
     "iopub.status.busy": "2023-02-07T02:40:57.484285Z",
     "iopub.execute_input": "2023-02-07T02:40:57.484695Z",
     "iopub.status.idle": "2023-02-07T02:40:57.570947Z",
     "shell.execute_reply.started": "2023-02-07T02:40:57.484653Z",
     "shell.execute_reply": "2023-02-07T02:40:57.569477Z"
    },
    "trusted": true,
    "ExecuteTime": {
     "end_time": "2023-07-11T19:29:46.245063400Z",
     "start_time": "2023-07-11T19:29:46.223064Z"
    }
   },
   "execution_count": 6,
   "outputs": [
    {
     "name": "stdout",
     "output_type": "stream",
     "text": [
      "cuda\n"
     ]
    }
   ]
  },
  {
   "cell_type": "code",
   "source": [
    "data = pd.read_csv('C:/Users/qwe11/PycharmProjects/Ner_task/ner_datasetreference.csv',encoding = 'unicode_escape')\n",
    "data.head()"
   ],
   "metadata": {
    "execution": {
     "iopub.status.busy": "2023-02-07T02:40:57.574208Z",
     "iopub.execute_input": "2023-02-07T02:40:57.575098Z",
     "iopub.status.idle": "2023-02-07T02:40:58.12396Z",
     "shell.execute_reply.started": "2023-02-07T02:40:57.575055Z",
     "shell.execute_reply": "2023-02-07T02:40:58.122875Z"
    },
    "trusted": true,
    "ExecuteTime": {
     "end_time": "2023-07-11T19:29:46.499064500Z",
     "start_time": "2023-07-11T19:29:46.245063400Z"
    }
   },
   "execution_count": 7,
   "outputs": [
    {
     "data": {
      "text/plain": "    Sentence #           Word  POS Tag\n0  Sentence: 1      Thousands  NNS   O\n1          NaN             of   IN   O\n2          NaN  demonstrators  NNS   O\n3          NaN           have  VBP   O\n4          NaN        marched  VBN   O",
      "text/html": "<div>\n<style scoped>\n    .dataframe tbody tr th:only-of-type {\n        vertical-align: middle;\n    }\n\n    .dataframe tbody tr th {\n        vertical-align: top;\n    }\n\n    .dataframe thead th {\n        text-align: right;\n    }\n</style>\n<table border=\"1\" class=\"dataframe\">\n  <thead>\n    <tr style=\"text-align: right;\">\n      <th></th>\n      <th>Sentence #</th>\n      <th>Word</th>\n      <th>POS</th>\n      <th>Tag</th>\n    </tr>\n  </thead>\n  <tbody>\n    <tr>\n      <th>0</th>\n      <td>Sentence: 1</td>\n      <td>Thousands</td>\n      <td>NNS</td>\n      <td>O</td>\n    </tr>\n    <tr>\n      <th>1</th>\n      <td>NaN</td>\n      <td>of</td>\n      <td>IN</td>\n      <td>O</td>\n    </tr>\n    <tr>\n      <th>2</th>\n      <td>NaN</td>\n      <td>demonstrators</td>\n      <td>NNS</td>\n      <td>O</td>\n    </tr>\n    <tr>\n      <th>3</th>\n      <td>NaN</td>\n      <td>have</td>\n      <td>VBP</td>\n      <td>O</td>\n    </tr>\n    <tr>\n      <th>4</th>\n      <td>NaN</td>\n      <td>marched</td>\n      <td>VBN</td>\n      <td>O</td>\n    </tr>\n  </tbody>\n</table>\n</div>"
     },
     "execution_count": 7,
     "metadata": {},
     "output_type": "execute_result"
    }
   ]
  },
  {
   "cell_type": "code",
   "source": [
    "data.count()"
   ],
   "metadata": {
    "execution": {
     "iopub.status.busy": "2023-02-07T02:40:58.125534Z",
     "iopub.execute_input": "2023-02-07T02:40:58.126163Z",
     "iopub.status.idle": "2023-02-07T02:40:58.285834Z",
     "shell.execute_reply.started": "2023-02-07T02:40:58.126124Z",
     "shell.execute_reply": "2023-02-07T02:40:58.284855Z"
    },
    "trusted": true,
    "ExecuteTime": {
     "end_time": "2023-07-11T19:29:46.591063800Z",
     "start_time": "2023-07-11T19:29:46.498062900Z"
    }
   },
   "execution_count": 8,
   "outputs": [
    {
     "data": {
      "text/plain": "Sentence #      47959\nWord          1048565\nPOS           1048575\nTag           1048575\ndtype: int64"
     },
     "execution_count": 8,
     "metadata": {},
     "output_type": "execute_result"
    }
   ]
  },
  {
   "cell_type": "code",
   "source": [
    "print('number of tags: {}'.format(len(data.Tag.unique())))\n",
    "freq = data.Tag.value_counts()\n",
    "freq"
   ],
   "metadata": {
    "execution": {
     "iopub.status.busy": "2023-02-07T02:40:58.287674Z",
     "iopub.execute_input": "2023-02-07T02:40:58.288434Z",
     "iopub.status.idle": "2023-02-07T02:40:58.408143Z",
     "shell.execute_reply.started": "2023-02-07T02:40:58.288392Z",
     "shell.execute_reply": "2023-02-07T02:40:58.406942Z"
    },
    "trusted": true,
    "ExecuteTime": {
     "end_time": "2023-07-11T19:29:46.628063800Z",
     "start_time": "2023-07-11T19:29:46.576063100Z"
    }
   },
   "execution_count": 9,
   "outputs": [
    {
     "name": "stdout",
     "output_type": "stream",
     "text": [
      "number of tags: 17\n"
     ]
    },
    {
     "data": {
      "text/plain": "Tag\nO        887908\nB-geo     37644\nB-tim     20333\nB-org     20143\nI-per     17251\nB-per     16990\nI-org     16784\nB-gpe     15870\nI-geo      7414\nI-tim      6528\nB-art       402\nB-eve       308\nI-art       297\nI-eve       253\nB-nat       201\nI-gpe       198\nI-nat        51\nName: count, dtype: int64"
     },
     "execution_count": 9,
     "metadata": {},
     "output_type": "execute_result"
    }
   ]
  },
  {
   "cell_type": "code",
   "source": [
    "#ents_to_remove = ['B-art','B-eve','I-art','I-eve','B-nat','I-nat']\n",
    "#data = data[~data.Tag.isin(ents_to_remove)] # Return DataFrame that doesn't contain the previous Features\n",
    "#data.head()"
   ],
   "metadata": {
    "execution": {
     "iopub.status.busy": "2023-02-07T02:40:58.411353Z",
     "iopub.execute_input": "2023-02-07T02:40:58.411773Z",
     "iopub.status.idle": "2023-02-07T02:40:58.57598Z",
     "shell.execute_reply.started": "2023-02-07T02:40:58.411733Z",
     "shell.execute_reply": "2023-02-07T02:40:58.574881Z"
    },
    "trusted": true,
    "ExecuteTime": {
     "end_time": "2023-07-11T19:29:46.690064400Z",
     "start_time": "2023-07-11T19:29:46.627064400Z"
    }
   },
   "execution_count": 10,
   "outputs": [
    {
     "data": {
      "text/plain": "    Sentence #           Word  POS Tag\n0  Sentence: 1      Thousands  NNS   O\n1          NaN             of   IN   O\n2          NaN  demonstrators  NNS   O\n3          NaN           have  VBP   O\n4          NaN        marched  VBN   O",
      "text/html": "<div>\n<style scoped>\n    .dataframe tbody tr th:only-of-type {\n        vertical-align: middle;\n    }\n\n    .dataframe tbody tr th {\n        vertical-align: top;\n    }\n\n    .dataframe thead th {\n        text-align: right;\n    }\n</style>\n<table border=\"1\" class=\"dataframe\">\n  <thead>\n    <tr style=\"text-align: right;\">\n      <th></th>\n      <th>Sentence #</th>\n      <th>Word</th>\n      <th>POS</th>\n      <th>Tag</th>\n    </tr>\n  </thead>\n  <tbody>\n    <tr>\n      <th>0</th>\n      <td>Sentence: 1</td>\n      <td>Thousands</td>\n      <td>NNS</td>\n      <td>O</td>\n    </tr>\n    <tr>\n      <th>1</th>\n      <td>NaN</td>\n      <td>of</td>\n      <td>IN</td>\n      <td>O</td>\n    </tr>\n    <tr>\n      <th>2</th>\n      <td>NaN</td>\n      <td>demonstrators</td>\n      <td>NNS</td>\n      <td>O</td>\n    </tr>\n    <tr>\n      <th>3</th>\n      <td>NaN</td>\n      <td>have</td>\n      <td>VBP</td>\n      <td>O</td>\n    </tr>\n    <tr>\n      <th>4</th>\n      <td>NaN</td>\n      <td>marched</td>\n      <td>VBN</td>\n      <td>O</td>\n    </tr>\n  </tbody>\n</table>\n</div>"
     },
     "execution_count": 10,
     "metadata": {},
     "output_type": "execute_result"
    }
   ]
  },
  {
   "cell_type": "code",
   "source": [
    "data = data.fillna(method = 'ffill')"
   ],
   "metadata": {
    "execution": {
     "iopub.status.busy": "2023-02-07T02:40:58.577786Z",
     "iopub.execute_input": "2023-02-07T02:40:58.578489Z",
     "iopub.status.idle": "2023-02-07T02:40:58.797657Z",
     "shell.execute_reply.started": "2023-02-07T02:40:58.578444Z",
     "shell.execute_reply": "2023-02-07T02:40:58.796554Z"
    },
    "trusted": true,
    "ExecuteTime": {
     "end_time": "2023-07-11T19:29:46.795064Z",
     "start_time": "2023-07-11T19:29:46.688063600Z"
    }
   },
   "execution_count": 11,
   "outputs": []
  },
  {
   "cell_type": "code",
   "source": [
    "data['Sentence #'] = LabelEncoder().fit_transform(data['Sentence #'])\n",
    "data.head()"
   ],
   "metadata": {
    "execution": {
     "iopub.status.busy": "2023-02-07T02:41:05.883428Z",
     "iopub.execute_input": "2023-02-07T02:41:05.884079Z",
     "iopub.status.idle": "2023-02-07T02:41:06.369836Z",
     "shell.execute_reply.started": "2023-02-07T02:41:05.884039Z",
     "shell.execute_reply": "2023-02-07T02:41:06.368808Z"
    },
    "trusted": true,
    "ExecuteTime": {
     "end_time": "2023-07-11T19:29:46.955064200Z",
     "start_time": "2023-07-11T19:29:46.834064400Z"
    }
   },
   "execution_count": 13,
   "outputs": [
    {
     "data": {
      "text/plain": "   Sentence #           Word  POS Tag\n0           0      Thousands  NNS   O\n1           0             of   IN   O\n2           0  demonstrators  NNS   O\n3           0           have  VBP   O\n4           0        marched  VBN   O",
      "text/html": "<div>\n<style scoped>\n    .dataframe tbody tr th:only-of-type {\n        vertical-align: middle;\n    }\n\n    .dataframe tbody tr th {\n        vertical-align: top;\n    }\n\n    .dataframe thead th {\n        text-align: right;\n    }\n</style>\n<table border=\"1\" class=\"dataframe\">\n  <thead>\n    <tr style=\"text-align: right;\">\n      <th></th>\n      <th>Sentence #</th>\n      <th>Word</th>\n      <th>POS</th>\n      <th>Tag</th>\n    </tr>\n  </thead>\n  <tbody>\n    <tr>\n      <th>0</th>\n      <td>0</td>\n      <td>Thousands</td>\n      <td>NNS</td>\n      <td>O</td>\n    </tr>\n    <tr>\n      <th>1</th>\n      <td>0</td>\n      <td>of</td>\n      <td>IN</td>\n      <td>O</td>\n    </tr>\n    <tr>\n      <th>2</th>\n      <td>0</td>\n      <td>demonstrators</td>\n      <td>NNS</td>\n      <td>O</td>\n    </tr>\n    <tr>\n      <th>3</th>\n      <td>0</td>\n      <td>have</td>\n      <td>VBP</td>\n      <td>O</td>\n    </tr>\n    <tr>\n      <th>4</th>\n      <td>0</td>\n      <td>marched</td>\n      <td>VBN</td>\n      <td>O</td>\n    </tr>\n  </tbody>\n</table>\n</div>"
     },
     "execution_count": 13,
     "metadata": {},
     "output_type": "execute_result"
    }
   ]
  },
  {
   "cell_type": "code",
   "source": [
    "data.rename(columns = {'Sentence #':'sentence_id',\n",
    "                       'Word':'words',\n",
    "                       'Tag':'label'},inplace = True)"
   ],
   "metadata": {
    "execution": {
     "iopub.status.busy": "2023-02-07T02:41:06.374148Z",
     "iopub.execute_input": "2023-02-07T02:41:06.376533Z",
     "iopub.status.idle": "2023-02-07T02:41:06.383805Z",
     "shell.execute_reply.started": "2023-02-07T02:41:06.376462Z",
     "shell.execute_reply": "2023-02-07T02:41:06.382946Z"
    },
    "trusted": true,
    "ExecuteTime": {
     "end_time": "2023-07-11T19:29:46.959063700Z",
     "start_time": "2023-07-11T19:29:46.956064900Z"
    }
   },
   "execution_count": 14,
   "outputs": []
  },
  {
   "cell_type": "code",
   "source": [
    "data"
   ],
   "metadata": {
    "execution": {
     "iopub.status.busy": "2023-02-07T02:41:06.385515Z",
     "iopub.execute_input": "2023-02-07T02:41:06.386103Z",
     "iopub.status.idle": "2023-02-07T02:41:06.413093Z",
     "shell.execute_reply.started": "2023-02-07T02:41:06.386019Z",
     "shell.execute_reply": "2023-02-07T02:41:06.411989Z"
    },
    "trusted": true,
    "ExecuteTime": {
     "end_time": "2023-07-11T19:29:46.973063600Z",
     "start_time": "2023-07-11T19:29:46.960064300Z"
    }
   },
   "execution_count": 15,
   "outputs": [
    {
     "data": {
      "text/plain": "         sentence_id          words  POS label\n0                  0      Thousands  NNS     O\n1                  0             of   IN     O\n2                  0  demonstrators  NNS     O\n3                  0           have  VBP     O\n4                  0        marched  VBN     O\n...              ...            ...  ...   ...\n1048570        42146           they  PRP     O\n1048571        42146      responded  VBD     O\n1048572        42146             to   TO     O\n1048573        42146            the   DT     O\n1048574        42146         attack   NN     O\n\n[1047063 rows x 4 columns]",
      "text/html": "<div>\n<style scoped>\n    .dataframe tbody tr th:only-of-type {\n        vertical-align: middle;\n    }\n\n    .dataframe tbody tr th {\n        vertical-align: top;\n    }\n\n    .dataframe thead th {\n        text-align: right;\n    }\n</style>\n<table border=\"1\" class=\"dataframe\">\n  <thead>\n    <tr style=\"text-align: right;\">\n      <th></th>\n      <th>sentence_id</th>\n      <th>words</th>\n      <th>POS</th>\n      <th>label</th>\n    </tr>\n  </thead>\n  <tbody>\n    <tr>\n      <th>0</th>\n      <td>0</td>\n      <td>Thousands</td>\n      <td>NNS</td>\n      <td>O</td>\n    </tr>\n    <tr>\n      <th>1</th>\n      <td>0</td>\n      <td>of</td>\n      <td>IN</td>\n      <td>O</td>\n    </tr>\n    <tr>\n      <th>2</th>\n      <td>0</td>\n      <td>demonstrators</td>\n      <td>NNS</td>\n      <td>O</td>\n    </tr>\n    <tr>\n      <th>3</th>\n      <td>0</td>\n      <td>have</td>\n      <td>VBP</td>\n      <td>O</td>\n    </tr>\n    <tr>\n      <th>4</th>\n      <td>0</td>\n      <td>marched</td>\n      <td>VBN</td>\n      <td>O</td>\n    </tr>\n    <tr>\n      <th>...</th>\n      <td>...</td>\n      <td>...</td>\n      <td>...</td>\n      <td>...</td>\n    </tr>\n    <tr>\n      <th>1048570</th>\n      <td>42146</td>\n      <td>they</td>\n      <td>PRP</td>\n      <td>O</td>\n    </tr>\n    <tr>\n      <th>1048571</th>\n      <td>42146</td>\n      <td>responded</td>\n      <td>VBD</td>\n      <td>O</td>\n    </tr>\n    <tr>\n      <th>1048572</th>\n      <td>42146</td>\n      <td>to</td>\n      <td>TO</td>\n      <td>O</td>\n    </tr>\n    <tr>\n      <th>1048573</th>\n      <td>42146</td>\n      <td>the</td>\n      <td>DT</td>\n      <td>O</td>\n    </tr>\n    <tr>\n      <th>1048574</th>\n      <td>42146</td>\n      <td>attack</td>\n      <td>NN</td>\n      <td>O</td>\n    </tr>\n  </tbody>\n</table>\n<p>1047063 rows × 4 columns</p>\n</div>"
     },
     "execution_count": 15,
     "metadata": {},
     "output_type": "execute_result"
    }
   ]
  },
  {
   "cell_type": "code",
   "source": [
    "data['label'] = data['label'].str.upper()"
   ],
   "metadata": {
    "execution": {
     "iopub.status.busy": "2023-02-07T02:41:06.418478Z",
     "iopub.execute_input": "2023-02-07T02:41:06.420637Z",
     "iopub.status.idle": "2023-02-07T02:41:06.978628Z",
     "shell.execute_reply.started": "2023-02-07T02:41:06.420602Z",
     "shell.execute_reply": "2023-02-07T02:41:06.977575Z"
    },
    "trusted": true,
    "ExecuteTime": {
     "end_time": "2023-07-11T19:29:47.112063100Z",
     "start_time": "2023-07-11T19:29:46.974063700Z"
    }
   },
   "execution_count": 16,
   "outputs": []
  },
  {
   "cell_type": "code",
   "source": [
    "X = data[['sentence_id','words']]\n",
    "y = data['label']"
   ],
   "metadata": {
    "execution": {
     "iopub.status.busy": "2023-02-07T02:41:06.983549Z",
     "iopub.execute_input": "2023-02-07T02:41:06.98604Z",
     "iopub.status.idle": "2023-02-07T02:41:07.132203Z",
     "shell.execute_reply.started": "2023-02-07T02:41:06.985981Z",
     "shell.execute_reply": "2023-02-07T02:41:07.131135Z"
    },
    "trusted": true,
    "ExecuteTime": {
     "end_time": "2023-07-11T19:29:47.124063200Z",
     "start_time": "2023-07-11T19:29:47.090064300Z"
    }
   },
   "execution_count": 17,
   "outputs": []
  },
  {
   "cell_type": "code",
   "source": [
    "X_train,X_test,y_train,y_test = train_test_split(X,y)"
   ],
   "metadata": {
    "execution": {
     "iopub.status.busy": "2023-02-07T02:41:07.137228Z",
     "iopub.execute_input": "2023-02-07T02:41:07.139534Z",
     "iopub.status.idle": "2023-02-07T02:41:07.432604Z",
     "shell.execute_reply.started": "2023-02-07T02:41:07.139461Z",
     "shell.execute_reply": "2023-02-07T02:41:07.43141Z"
    },
    "trusted": true,
    "ExecuteTime": {
     "end_time": "2023-07-11T19:29:47.206064Z",
     "start_time": "2023-07-11T19:29:47.112063100Z"
    }
   },
   "execution_count": 18,
   "outputs": []
  },
  {
   "cell_type": "code",
   "source": [
    "train_data = pd.DataFrame({\"sentence_id\":X_train[\"sentence_id\"],\"words\":X_train[\"words\"],\"labels\":y_train})\n",
    "test_data = pd.DataFrame({\"sentence_id\":X_test[\"sentence_id\"],\"words\":X_test[\"words\"],\"labels\":y_test})"
   ],
   "metadata": {
    "execution": {
     "iopub.status.busy": "2023-02-07T02:41:07.434089Z",
     "iopub.execute_input": "2023-02-07T02:41:07.434442Z",
     "iopub.status.idle": "2023-02-07T02:41:07.494148Z",
     "shell.execute_reply.started": "2023-02-07T02:41:07.434407Z",
     "shell.execute_reply": "2023-02-07T02:41:07.493036Z"
    },
    "trusted": true,
    "ExecuteTime": {
     "end_time": "2023-07-11T19:29:47.238064500Z",
     "start_time": "2023-07-11T19:29:47.206064Z"
    }
   },
   "execution_count": 19,
   "outputs": []
  },
  {
   "cell_type": "code",
   "source": [
    "labels = data['label'].unique().tolist()\n",
    "labels"
   ],
   "metadata": {
    "execution": {
     "iopub.status.busy": "2023-02-07T02:41:11.078803Z",
     "iopub.execute_input": "2023-02-07T02:41:11.079461Z",
     "iopub.status.idle": "2023-02-07T02:41:11.161488Z",
     "shell.execute_reply.started": "2023-02-07T02:41:11.079423Z",
     "shell.execute_reply": "2023-02-07T02:41:11.16056Z"
    },
    "trusted": true,
    "ExecuteTime": {
     "end_time": "2023-07-11T19:29:48.553064300Z",
     "start_time": "2023-07-11T19:29:48.520063600Z"
    }
   },
   "execution_count": 22,
   "outputs": [
    {
     "data": {
      "text/plain": "['O',\n 'B-GEO',\n 'B-GPE',\n 'B-PER',\n 'I-GEO',\n 'B-ORG',\n 'I-ORG',\n 'B-TIM',\n 'I-PER',\n 'I-GPE',\n 'I-TIM']"
     },
     "execution_count": 22,
     "metadata": {},
     "output_type": "execute_result"
    }
   ]
  },
  {
   "cell_type": "code",
   "source": [
    "#Определение гиперпараметров модели\n",
    "args = NERArgs()\n",
    "args.num_train_epochs = 1\n",
    "args.learning_rate = 1e-4\n",
    "args.overwrite_output_dir = True\n",
    "args.train_batch_size = 32\n",
    "args.eval_batch_size = 32"
   ],
   "metadata": {
    "execution": {
     "iopub.status.busy": "2023-02-07T02:47:52.97475Z",
     "iopub.execute_input": "2023-02-07T02:47:52.975148Z",
     "iopub.status.idle": "2023-02-07T02:47:52.981395Z",
     "shell.execute_reply.started": "2023-02-07T02:47:52.975114Z",
     "shell.execute_reply": "2023-02-07T02:47:52.980157Z"
    },
    "trusted": true,
    "ExecuteTime": {
     "end_time": "2023-07-11T19:29:48.557063600Z",
     "start_time": "2023-07-11T19:29:48.553064300Z"
    }
   },
   "execution_count": 23,
   "outputs": []
  },
  {
   "cell_type": "code",
   "source": [
    "model = NERModel('bert','bert-base-cased',labels = labels , args = args)"
   ],
   "metadata": {
    "execution": {
     "iopub.status.busy": "2023-02-07T02:47:58.375347Z",
     "iopub.execute_input": "2023-02-07T02:47:58.376236Z",
     "iopub.status.idle": "2023-02-07T02:48:01.381435Z",
     "shell.execute_reply.started": "2023-02-07T02:47:58.376191Z",
     "shell.execute_reply": "2023-02-07T02:48:01.380366Z"
    },
    "trusted": true,
    "ExecuteTime": {
     "end_time": "2023-07-11T19:29:49.419632200Z",
     "start_time": "2023-07-11T19:29:48.558063800Z"
    }
   },
   "execution_count": 24,
   "outputs": [
    {
     "name": "stderr",
     "output_type": "stream",
     "text": [
      "Some weights of the model checkpoint at bert-base-cased were not used when initializing BertForTokenClassification: ['cls.predictions.transform.dense.bias', 'cls.predictions.transform.dense.weight', 'cls.seq_relationship.weight', 'cls.predictions.transform.LayerNorm.bias', 'cls.seq_relationship.bias', 'cls.predictions.transform.LayerNorm.weight', 'cls.predictions.bias']\n",
      "- This IS expected if you are initializing BertForTokenClassification from the checkpoint of a model trained on another task or with another architecture (e.g. initializing a BertForSequenceClassification model from a BertForPreTraining model).\n",
      "- This IS NOT expected if you are initializing BertForTokenClassification from the checkpoint of a model that you expect to be exactly identical (initializing a BertForSequenceClassification model from a BertForSequenceClassification model).\n",
      "Some weights of BertForTokenClassification were not initialized from the model checkpoint at bert-base-cased and are newly initialized: ['classifier.weight', 'classifier.bias']\n",
      "You should probably TRAIN this model on a down-stream task to be able to use it for predictions and inference.\n"
     ]
    }
   ]
  },
  {
   "cell_type": "code",
   "source": [
    "model.train_model(train_data , eval_data = test_data , acc = accuracy_score)"
   ],
   "metadata": {
    "execution": {
     "iopub.status.busy": "2023-02-07T02:48:22.651981Z",
     "iopub.execute_input": "2023-02-07T02:48:22.652607Z",
     "iopub.status.idle": "2023-02-07T02:55:47.151031Z",
     "shell.execute_reply.started": "2023-02-07T02:48:22.652554Z",
     "shell.execute_reply": "2023-02-07T02:55:47.15006Z"
    },
    "trusted": true,
    "ExecuteTime": {
     "end_time": "2023-07-11T19:32:44.069872400Z",
     "start_time": "2023-07-11T19:29:49.421517600Z"
    }
   },
   "execution_count": 25,
   "outputs": [
    {
     "data": {
      "text/plain": "  0%|          | 0/45 [00:00<?, ?it/s]",
      "application/vnd.jupyter.widget-view+json": {
       "version_major": 2,
       "version_minor": 0,
       "model_id": "68e058684d074e32a8161bb35395f835"
      }
     },
     "metadata": {},
     "output_type": "display_data"
    },
    {
     "data": {
      "text/plain": "Epoch:   0%|          | 0/1 [00:00<?, ?it/s]",
      "application/vnd.jupyter.widget-view+json": {
       "version_major": 2,
       "version_minor": 0,
       "model_id": "83ec40fcc5f24f29a3b6dc3ef12c7a1a"
      }
     },
     "metadata": {},
     "output_type": "display_data"
    },
    {
     "data": {
      "text/plain": "Running Epoch 0 of 1:   0%|          | 0/1498 [00:00<?, ?it/s]",
      "application/vnd.jupyter.widget-view+json": {
       "version_major": 2,
       "version_minor": 0,
       "model_id": "926fc3786b2c4e838a742b09142352b7"
      }
     },
     "metadata": {},
     "output_type": "display_data"
    },
    {
     "name": "stderr",
     "output_type": "stream",
     "text": [
      "C:\\Users\\qwe11\\PycharmProjects\\Ner_task\\venv\\lib\\site-packages\\torch\\optim\\lr_scheduler.py:139: UserWarning: Detected call of `lr_scheduler.step()` before `optimizer.step()`. In PyTorch 1.1.0 and later, you should call them in the opposite order: `optimizer.step()` before `lr_scheduler.step()`.  Failure to do this will result in PyTorch skipping the first value of the learning rate schedule. See more details at https://pytorch.org/docs/stable/optim.html#how-to-adjust-learning-rate\n",
      "  warnings.warn(\"Detected call of `lr_scheduler.step()` before `optimizer.step()`. \"\n"
     ]
    },
    {
     "data": {
      "text/plain": "(1498, 0.17820550251667586)"
     },
     "execution_count": 25,
     "metadata": {},
     "output_type": "execute_result"
    }
   ]
  },
  {
   "cell_type": "code",
   "source": [
    "result, model_outputs, preds_list = model.eval_model(test_data)"
   ],
   "metadata": {
    "execution": {
     "iopub.status.busy": "2023-02-07T03:06:39.323729Z",
     "iopub.execute_input": "2023-02-07T03:06:39.324142Z",
     "iopub.status.idle": "2023-02-07T03:10:18.12342Z",
     "shell.execute_reply.started": "2023-02-07T03:06:39.324108Z",
     "shell.execute_reply": "2023-02-07T03:10:18.122343Z"
    },
    "trusted": true,
    "ExecuteTime": {
     "end_time": "2023-07-11T19:35:00.508857700Z",
     "start_time": "2023-07-11T19:32:44.069872400Z"
    }
   },
   "execution_count": 26,
   "outputs": [
    {
     "data": {
      "text/plain": "  0%|          | 0/45 [00:00<?, ?it/s]",
      "application/vnd.jupyter.widget-view+json": {
       "version_major": 2,
       "version_minor": 0,
       "model_id": "5bb9958e93c944f9b435cfecb84b9226"
      }
     },
     "metadata": {},
     "output_type": "display_data"
    },
    {
     "data": {
      "text/plain": "Running Evaluation:   0%|          | 0/1478 [00:00<?, ?it/s]",
      "application/vnd.jupyter.widget-view+json": {
       "version_major": 2,
       "version_minor": 0,
       "model_id": "1ae50e49f2c44336b404eb4c963ae0ea"
      }
     },
     "metadata": {},
     "output_type": "display_data"
    }
   ]
  },
  {
   "cell_type": "code",
   "source": [
    "result"
   ],
   "metadata": {
    "execution": {
     "iopub.status.busy": "2023-02-07T03:11:03.762454Z",
     "iopub.execute_input": "2023-02-07T03:11:03.76371Z",
     "iopub.status.idle": "2023-02-07T03:11:03.771698Z",
     "shell.execute_reply.started": "2023-02-07T03:11:03.763655Z",
     "shell.execute_reply": "2023-02-07T03:11:03.770372Z"
    },
    "trusted": true,
    "ExecuteTime": {
     "end_time": "2023-07-11T19:35:00.516371700Z",
     "start_time": "2023-07-11T19:35:00.509858100Z"
    }
   },
   "execution_count": 27,
   "outputs": [
    {
     "data": {
      "text/plain": "{'eval_loss': 0.15652676767711207,\n 'precision': 0.835230276888827,\n 'recall': 0.7732776833101458,\n 'f1_score': 0.803060910513853}"
     },
     "execution_count": 27,
     "metadata": {},
     "output_type": "execute_result"
    }
   ]
  },
  {
   "cell_type": "code",
   "source": [
    "prediction, model_output = model.predict([\"Сторлица России -  Москва\"])\n",
    "prediction"
   ],
   "metadata": {
    "execution": {
     "iopub.status.busy": "2023-02-07T03:13:59.976491Z",
     "iopub.execute_input": "2023-02-07T03:13:59.976941Z",
     "iopub.status.idle": "2023-02-07T03:14:00.524097Z",
     "shell.execute_reply.started": "2023-02-07T03:13:59.976903Z",
     "shell.execute_reply": "2023-02-07T03:14:00.523067Z"
    },
    "trusted": true,
    "ExecuteTime": {
     "end_time": "2023-07-11T19:37:45.942854Z",
     "start_time": "2023-07-11T19:37:42.699323400Z"
    }
   },
   "execution_count": 32,
   "outputs": [
    {
     "data": {
      "text/plain": "  0%|          | 0/1 [00:00<?, ?it/s]",
      "application/vnd.jupyter.widget-view+json": {
       "version_major": 2,
       "version_minor": 0,
       "model_id": "9cfcb22fc0d1492193491608800df1bd"
      }
     },
     "metadata": {},
     "output_type": "display_data"
    },
    {
     "data": {
      "text/plain": "Running Prediction:   0%|          | 0/1 [00:00<?, ?it/s]",
      "application/vnd.jupyter.widget-view+json": {
       "version_major": 2,
       "version_minor": 0,
       "model_id": "0906f1e2b7f14a3784fc027f88af8e50"
      }
     },
     "metadata": {},
     "output_type": "display_data"
    },
    {
     "data": {
      "text/plain": "[[{'Сторлица': 'B-ORG'}, {'России': 'O'}, {'-': 'O'}, {'Москва': 'I-PER'}]]"
     },
     "execution_count": 32,
     "metadata": {},
     "output_type": "execute_result"
    }
   ]
  },
  {
   "cell_type": "code",
   "execution_count": null,
   "outputs": [],
   "source": [],
   "metadata": {
    "collapsed": false
   }
  }
 ]
}
