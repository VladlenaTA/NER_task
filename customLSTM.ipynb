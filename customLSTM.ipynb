{
 "cells": [
  {
   "cell_type": "code",
   "execution_count": 49,
   "outputs": [],
   "source": [
    "import pandas as pd\n",
    "import torch\n",
    "import torch.nn as nn\n",
    "import torch.optim as optim\n",
    "from torch.utils.data import Dataset, DataLoader"
   ],
   "metadata": {
    "collapsed": false,
    "ExecuteTime": {
     "end_time": "2023-07-11T20:52:22.467099700Z",
     "start_time": "2023-07-11T20:52:22.451103900Z"
    }
   }
  },
  {
   "cell_type": "code",
   "execution_count": 50,
   "outputs": [],
   "source": [
    "class NERModel(nn.Module):\n",
    "    def __init__(self, vocab_size, embedding_dim, hidden_dim, output_dim, dropout_rate=0.5):\n",
    "        super(NERModel, self).__init__()\n",
    "\n",
    "        self.embedding = nn.Embedding(vocab_size, embedding_dim)\n",
    "        self.lstm = nn.LSTM(embedding_dim, hidden_dim, batch_first=True, bidirectional=True)\n",
    "        self.dropout = nn.Dropout(dropout_rate)\n",
    "        self.dropout = nn.Dropout(dropout_rate)\n",
    "        self.fc = nn.Linear(hidden_dim * 2, output_dim)  # Multiply hidden_dim by 2 for bidirectional LSTM\n",
    "\n",
    "    def forward(self, x):\n",
    "        embedded = self.embedding(x)\n",
    "        output, _ = self.lstm(embedded)\n",
    "        output = self.dropout(output)\n",
    "        output = self.dropout(output)\n",
    "        output = self.fc(output)\n",
    "        return output"
   ],
   "metadata": {
    "collapsed": false,
    "ExecuteTime": {
     "end_time": "2023-07-11T20:52:22.487099900Z",
     "start_time": "2023-07-11T20:52:22.461100Z"
    }
   }
  },
  {
   "cell_type": "code",
   "execution_count": 51,
   "outputs": [],
   "source": [
    "# Определение кастомного класса для загрузки датасета\n",
    "class NERDataset(Dataset):\n",
    "    def __init__(self, filepath):\n",
    "        self.data = pd.read_csv(filepath, encoding='ISO-8859-1').fillna(method='ffill')\n",
    "\n",
    "        # Create a list of unique words and tags\n",
    "        self.words = list(set(self.data[\"Word\"].values))\n",
    "        self.tags = list(set(self.data[\"Tag\"].values))\n",
    "\n",
    "        # Create dictionaries for mapping words and tags to integers\n",
    "        self.word2idx = {w: i+1 for i, w in enumerate(self.words)}\n",
    "        self.tag2idx = {t: i for i, t in enumerate(self.tags)}\n",
    "\n",
    "        self.sentences = self._get_sentences()\n",
    "\n",
    "    def __len__(self):\n",
    "        return len(self.sentences)\n",
    "\n",
    "    def __getitem__(self, index):\n",
    "        sentence = self.sentences[index]\n",
    "        words = [word[0] for word in sentence]\n",
    "        tags = [word[1] for word in sentence]\n",
    "\n",
    "        # Convert words and tags to numerical values using the dictionaries\n",
    "        x = [self.word2idx[w] for w in words]\n",
    "        y = [self.tag2idx[t] for t in tags]\n",
    "\n",
    "        return torch.tensor(x), torch.tensor(y)\n",
    "\n",
    "    def _get_sentences(self):\n",
    "        # группировка данных по номеру предложения\n",
    "        grouped = self.data.groupby(\"Sentence #\")\n",
    "        sentences = []\n",
    "        for _, group in grouped:\n",
    "            words = group[\"Word\"].values.tolist()\n",
    "            tags = group[\"Tag\"].values.tolist()\n",
    "            sentence = list(zip(words, tags))\n",
    "            sentences.append(sentence)\n",
    "        return sentences"
   ],
   "metadata": {
    "collapsed": false,
    "ExecuteTime": {
     "end_time": "2023-07-11T20:52:22.488100400Z",
     "start_time": "2023-07-11T20:52:22.473100300Z"
    }
   }
  },
  {
   "cell_type": "code",
   "execution_count": 52,
   "outputs": [],
   "source": [
    "# определение гиперпараметров модели\n",
    "BATCH_SIZE = 32\n",
    "EMBEDDING_DIM = 32\n",
    "HIDDEN_DIM = 64\n",
    "LEARNING_RATE = 0.1\n",
    "EPOCHS = 4\n",
    "\n",
    "dataset = NERDataset(\"C:/Users/qwe11/PycharmProjects/Ner_task/ner_datasetreference.csv\")\n"
   ],
   "metadata": {
    "collapsed": false,
    "ExecuteTime": {
     "end_time": "2023-07-11T20:52:24.577098700Z",
     "start_time": "2023-07-11T20:52:22.491101100Z"
    }
   }
  },
  {
   "cell_type": "code",
   "execution_count": 53,
   "outputs": [],
   "source": [
    "# Разделение датасета на тренировочный и тестовый\n",
    "train_size = int(0.8 * len(dataset))\n",
    "val_size = len(dataset) - train_size\n",
    "train_dataset, val_dataset = torch.utils.data.random_split(dataset, [train_size, val_size])"
   ],
   "metadata": {
    "collapsed": false,
    "ExecuteTime": {
     "end_time": "2023-07-11T20:52:24.592099Z",
     "start_time": "2023-07-11T20:52:24.572099500Z"
    }
   }
  },
  {
   "cell_type": "code",
   "execution_count": 54,
   "outputs": [],
   "source": [
    "def collate_fn(batch):\n",
    "    x = [item[0] for item in batch]\n",
    "    y = [item[1] for item in batch]\n",
    "    x_lengths = [len(seq) for seq in x]\n",
    "    y_lengths = [len(seq) for seq in y]\n",
    "\n",
    "    # Добавление паддингов для одинаковой длинны текстов\n",
    "    x = nn.utils.rnn.pad_sequence(x, batch_first=True)\n",
    "    y = nn.utils.rnn.pad_sequence(y, batch_first=True)\n",
    "\n",
    "    # Создание маски, чтобы игнорировать значения заполнения при расчете потерь\n",
    "    x_mask = torch.arange(x.size(1))[None, :] < torch.tensor(x_lengths)[:, None]\n",
    "    y_mask = torch.arange(y.size(1))[None, :] < torch.tensor(y_lengths)[:, None]\n",
    "\n",
    "    return x, y, x_mask, y_mask"
   ],
   "metadata": {
    "collapsed": false,
    "ExecuteTime": {
     "end_time": "2023-07-11T20:52:24.607099600Z",
     "start_time": "2023-07-11T20:52:24.587099400Z"
    }
   }
  },
  {
   "cell_type": "code",
   "execution_count": 55,
   "outputs": [],
   "source": [
    "#Определение загрузчиков батчей данных дляя обучения модели\n",
    "train_loader = DataLoader(train_dataset, batch_size=BATCH_SIZE, shuffle=True,collate_fn = collate_fn)\n",
    "val_loader = DataLoader(val_dataset, batch_size=BATCH_SIZE, shuffle=False, collate_fn=collate_fn)"
   ],
   "metadata": {
    "collapsed": false,
    "ExecuteTime": {
     "end_time": "2023-07-11T20:52:24.665099100Z",
     "start_time": "2023-07-11T20:52:24.603099500Z"
    }
   }
  },
  {
   "cell_type": "code",
   "execution_count": 56,
   "outputs": [
    {
     "name": "stdout",
     "output_type": "stream",
     "text": [
      "Epoch 1, Train Loss: 0.1806, Val Loss: 0.1296\n",
      "Accuracy: 0.9675\n",
      "Precision: 0.8687\n",
      "Recall: 0.4504\n",
      "F1-Score: 0.4818\n",
      "Epoch 2, Train Loss: 0.1794, Val Loss: 0.1261\n",
      "Accuracy: 0.9688\n",
      "Precision: 0.8614\n",
      "Recall: 0.4481\n",
      "F1-Score: 0.4822\n",
      "Epoch 3, Train Loss: 0.1815, Val Loss: 0.1293\n",
      "Accuracy: 0.9684\n",
      "Precision: 0.8674\n",
      "Recall: 0.4378\n",
      "F1-Score: 0.4638\n",
      "Epoch 4, Train Loss: 0.1800, Val Loss: 0.1271\n",
      "Accuracy: 0.9683\n",
      "Precision: 0.8720\n",
      "Recall: 0.4475\n",
      "F1-Score: 0.4841\n"
     ]
    }
   ],
   "source": [
    "device = torch.device(\"cuda:0\" if torch.cuda.is_available() else \"cpu\")\n",
    "#Обучение модели проверка качетва\n",
    "for epoch in range(EPOCHS):\n",
    "    train_loss = 0.0\n",
    "    val_loss = 0.0\n",
    "    model.to(device)\n",
    "\n",
    "    model.train()  # Set the model to training mode\n",
    "\n",
    "    for batch in train_loader:\n",
    "        x, y, x_mask, y_mask = batch\n",
    "        x = x.to(device)\n",
    "        y = y.to(device)\n",
    "        x_mask = x_mask.to(device)\n",
    "        y_mask = y_mask.to(device)\n",
    "\n",
    "        optimizer.zero_grad()\n",
    "        output = model(x)\n",
    "        loss = criterion(output.view(-1, len(dataset.tags)), y.view(-1))\n",
    "        loss.backward()\n",
    "        optimizer.step()\n",
    "        train_loss += loss.item() * x.size(0)\n",
    "\n",
    "    train_loss /= len(train_dataset)\n",
    "\n",
    "    model.eval()  # Перевод в режим валидации\n",
    "    with torch.no_grad():\n",
    "        val_loss = 0.0\n",
    "        predictions = []\n",
    "        targets = []\n",
    "        for batch in val_loader:\n",
    "            x, y, x_mask, y_mask = batch\n",
    "            x = x.to(device)\n",
    "            y = y.to(device)\n",
    "            x_mask = x_mask.to(device)\n",
    "            y_mask = y_mask.to(device)\n",
    "\n",
    "            output = model(x)\n",
    "            loss = criterion(output.view(-1, len(dataset.tags)), y.view(-1))\n",
    "            val_loss += loss.item() * x.size(0)\n",
    "\n",
    "            # Calculate additional metrics\n",
    "            predicted_labels = torch.argmax(output, dim=2)\n",
    "            true_labels = y.view(-1).cpu().numpy()\n",
    "            predicted_labels = predicted_labels.view(-1).cpu().numpy()\n",
    "\n",
    "            predictions.extend(predicted_labels)\n",
    "            targets.extend(true_labels)\n",
    "\n",
    "        val_loss /= len(val_dataset)\n",
    "\n",
    "        accuracy = accuracy_score(targets, predictions)\n",
    "        precision = precision_score(targets, predictions, average='macro',zero_division=1)\n",
    "        recall = recall_score(targets, predictions, average='macro',zero_division=1)\n",
    "        f1 = f1_score(targets, predictions, average='macro',zero_division=1)\n",
    "\n",
    "    print(f\"Epoch {epoch+1}, Train Loss: {train_loss:.4f}, Val Loss: {val_loss:.4f}\")\n",
    "    print(\"Accuracy: {:.4f}\".format(accuracy))\n",
    "    print(\"Precision: {:.4f}\".format(precision))\n",
    "    print(\"Recall: {:.4f}\".format(recall))\n",
    "    print(\"F1-Score: {:.4f}\".format(f1))\n"
   ],
   "metadata": {
    "collapsed": false,
    "ExecuteTime": {
     "end_time": "2023-07-11T20:52:40.835696Z",
     "start_time": "2023-07-11T20:52:24.666098900Z"
    }
   }
  },
  {
   "cell_type": "code",
   "execution_count": 57,
   "outputs": [
    {
     "name": "stdout",
     "output_type": "stream",
     "text": [
      "['I-per', 'O', 'O', 'O', 'O', 'O', 'O', 'B-geo', 'O', 'O', 'O', 'O', 'B-geo', 'O', 'O', 'O', 'B-per', 'I-org', 'B-geo', 'O']\n"
     ]
    }
   ],
   "source": [
    "text = \"This is Vladlena Toloknova, i ;live in Russia Moscow and study in university\"\n",
    "\n",
    "# Tokenize the text\n",
    "tokenized_text = tokenizer.encode(text, add_special_tokens=True)\n",
    "\n",
    "# Convert the tokenized text to a tensor and add a batch dimension\n",
    "input_tensor = torch.tensor(tokenized_text).unsqueeze(0).to(device)\n",
    "\n",
    "# Pass the tensor through the model to get the predicted tags\n",
    "model.eval()\n",
    "with torch.no_grad():\n",
    "    output = model(input_tensor)[0]\n",
    "\n",
    "# Convert the predicted tags to their corresponding tag labels using the dataset's tag list\n",
    "predicted_tags = torch.argmax(output, dim=-1).squeeze().tolist()\n",
    "predicted_labels = [dataset.tags[idx] for idx in predicted_tags]\n",
    "print(predicted_labels)"
   ],
   "metadata": {
    "collapsed": false,
    "ExecuteTime": {
     "end_time": "2023-07-11T20:56:01.014097200Z",
     "start_time": "2023-07-11T20:56:00.952509500Z"
    }
   }
  },
  {
   "cell_type": "code",
   "execution_count": null,
   "outputs": [],
   "source": [],
   "metadata": {
    "collapsed": false
   }
  }
 ],
 "metadata": {
  "kernelspec": {
   "display_name": "Python 3",
   "language": "python",
   "name": "python3"
  },
  "language_info": {
   "codemirror_mode": {
    "name": "ipython",
    "version": 2
   },
   "file_extension": ".py",
   "mimetype": "text/x-python",
   "name": "python",
   "nbconvert_exporter": "python",
   "pygments_lexer": "ipython2",
   "version": "2.7.6"
  }
 },
 "nbformat": 4,
 "nbformat_minor": 0
}
